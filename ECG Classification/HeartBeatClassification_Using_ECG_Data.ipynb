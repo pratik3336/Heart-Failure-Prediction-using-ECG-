{
  "cells": [
    {
      "cell_type": "markdown",
      "metadata": {
        "id": "b770b162"
      },
      "source": [
        "# Usecase Overview "
      ],
      "id": "b770b162"
    },
    {
      "cell_type": "markdown",
      "metadata": {
        "id": "c7ccfbb8"
      },
      "source": [
        "ECG is widely used by cardiologists and medical practitioners for monitoring the cardiac health. The main problem with manual analysis of ECG signals, similar to many other time-series data, lies in difficulty of detecting and categorizing different waveforms and morphologies in the signal. For a human, this task is both extensively time-consuming and prone to errors. \n"
      ],
      "id": "c7ccfbb8"
    },
    {
      "cell_type": "markdown",
      "metadata": {
        "id": "6f0fa2b9"
      },
      "source": [
        "We also study the ECG of patients and classify them into 5 different categories. To address the problems raised with the manual analysis of ECG signals, many studies in the literature explored using machine learning techniques to accurately detect the anomalies in the signal. We have implemented 3 different implementations for classifying the ECG signals. \n"
      ],
      "id": "6f0fa2b9"
    },
    {
      "cell_type": "markdown",
      "metadata": {
        "id": "3736eae5"
      },
      "source": [
        "# Package Imports"
      ],
      "id": "3736eae5"
    },
    {
      "cell_type": "code",
      "execution_count": null,
      "metadata": {
        "id": "8d50f91d"
      },
      "outputs": [],
      "source": [
        "import random\n",
        "import numpy as np\n",
        "import pandas as pd\n",
        "import seaborn as sns\n",
        "import matplotlib.pyplot as plt\n",
        "from sklearn.model_selection import train_test_split,cross_val_score\n",
        "from sklearn.linear_model import LogisticRegression\n",
        "from sklearn.ensemble import RandomForestClassifier\n",
        "from sklearn.ensemble import GradientBoostingClassifier\n",
        "from sklearn.metrics import confusion_matrix\n",
        "from sklearn.svm import SVC\n",
        "from sklearn.metrics import classification_report,accuracy_score,confusion_matrix"
      ],
      "id": "8d50f91d"
    },
    {
      "cell_type": "markdown",
      "metadata": {
        "id": "44a2623c"
      },
      "source": [
        "# Data Loading"
      ],
      "id": "44a2623c"
    },
    {
      "cell_type": "code",
      "execution_count": null,
      "metadata": {
        "id": "d6e1721d"
      },
      "outputs": [],
      "source": [
        "df1 = pd.read_csv('mitbih_train.csv',header=None)\n",
        "df2 = pd.read_csv('mitbih_test.csv',header=None)"
      ],
      "id": "d6e1721d"
    },
    {
      "cell_type": "code",
      "execution_count": null,
      "metadata": {
        "id": "f4a8a055"
      },
      "outputs": [],
      "source": [
        "# concat the two dataframes\n",
        "df=pd.concat([df1,df2],ignore_index=True,sort=False)"
      ],
      "id": "f4a8a055"
    },
    {
      "cell_type": "code",
      "execution_count": null,
      "metadata": {
        "colab": {
          "base_uri": "https://localhost:8080/"
        },
        "id": "48d20270",
        "outputId": "033ce8b2-f15d-493f-d912-aedd1594fefd"
      },
      "outputs": [
        {
          "data": {
            "text/plain": [
              "(109446, 188)"
            ]
          },
          "execution_count": 4,
          "metadata": {},
          "output_type": "execute_result"
        }
      ],
      "source": [
        "df.shape"
      ],
      "id": "48d20270"
    },
    {
      "cell_type": "code",
      "execution_count": null,
      "metadata": {
        "colab": {
          "base_uri": "https://localhost:8080/",
          "height": 192
        },
        "id": "0ff23eec",
        "outputId": "8b8828e4-7d26-4cb0-93a7-66fd3e8f609b"
      },
      "outputs": [
        {
          "data": {
            "text/html": [
              "\n",
              "  <div id=\"df-0bae64fc-0731-4fb3-9a74-6c854987186b\">\n",
              "    <div class=\"colab-df-container\">\n",
              "      <div>\n",
              "<style scoped>\n",
              "    .dataframe tbody tr th:only-of-type {\n",
              "        vertical-align: middle;\n",
              "    }\n",
              "\n",
              "    .dataframe tbody tr th {\n",
              "        vertical-align: top;\n",
              "    }\n",
              "\n",
              "    .dataframe thead th {\n",
              "        text-align: right;\n",
              "    }\n",
              "</style>\n",
              "<table border=\"1\" class=\"dataframe\">\n",
              "  <thead>\n",
              "    <tr style=\"text-align: right;\">\n",
              "      <th></th>\n",
              "      <th>0</th>\n",
              "      <th>1</th>\n",
              "      <th>2</th>\n",
              "      <th>3</th>\n",
              "      <th>4</th>\n",
              "      <th>5</th>\n",
              "      <th>6</th>\n",
              "      <th>7</th>\n",
              "      <th>8</th>\n",
              "      <th>9</th>\n",
              "      <th>...</th>\n",
              "      <th>178</th>\n",
              "      <th>179</th>\n",
              "      <th>180</th>\n",
              "      <th>181</th>\n",
              "      <th>182</th>\n",
              "      <th>183</th>\n",
              "      <th>184</th>\n",
              "      <th>185</th>\n",
              "      <th>186</th>\n",
              "      <th>187</th>\n",
              "    </tr>\n",
              "  </thead>\n",
              "  <tbody>\n",
              "    <tr>\n",
              "      <th>0</th>\n",
              "      <td>0.977941</td>\n",
              "      <td>0.926471</td>\n",
              "      <td>0.681373</td>\n",
              "      <td>0.245098</td>\n",
              "      <td>0.154412</td>\n",
              "      <td>0.191176</td>\n",
              "      <td>0.151961</td>\n",
              "      <td>0.085784</td>\n",
              "      <td>0.058824</td>\n",
              "      <td>0.049020</td>\n",
              "      <td>...</td>\n",
              "      <td>0.0</td>\n",
              "      <td>0.0</td>\n",
              "      <td>0.0</td>\n",
              "      <td>0.0</td>\n",
              "      <td>0.0</td>\n",
              "      <td>0.0</td>\n",
              "      <td>0.0</td>\n",
              "      <td>0.0</td>\n",
              "      <td>0.0</td>\n",
              "      <td>0.0</td>\n",
              "    </tr>\n",
              "    <tr>\n",
              "      <th>1</th>\n",
              "      <td>0.960114</td>\n",
              "      <td>0.863248</td>\n",
              "      <td>0.461538</td>\n",
              "      <td>0.196581</td>\n",
              "      <td>0.094017</td>\n",
              "      <td>0.125356</td>\n",
              "      <td>0.099715</td>\n",
              "      <td>0.088319</td>\n",
              "      <td>0.074074</td>\n",
              "      <td>0.082621</td>\n",
              "      <td>...</td>\n",
              "      <td>0.0</td>\n",
              "      <td>0.0</td>\n",
              "      <td>0.0</td>\n",
              "      <td>0.0</td>\n",
              "      <td>0.0</td>\n",
              "      <td>0.0</td>\n",
              "      <td>0.0</td>\n",
              "      <td>0.0</td>\n",
              "      <td>0.0</td>\n",
              "      <td>0.0</td>\n",
              "    </tr>\n",
              "  </tbody>\n",
              "</table>\n",
              "<p>2 rows × 188 columns</p>\n",
              "</div>\n",
              "      <button class=\"colab-df-convert\" onclick=\"convertToInteractive('df-0bae64fc-0731-4fb3-9a74-6c854987186b')\"\n",
              "              title=\"Convert this dataframe to an interactive table.\"\n",
              "              style=\"display:none;\">\n",
              "        \n",
              "  <svg xmlns=\"http://www.w3.org/2000/svg\" height=\"24px\"viewBox=\"0 0 24 24\"\n",
              "       width=\"24px\">\n",
              "    <path d=\"M0 0h24v24H0V0z\" fill=\"none\"/>\n",
              "    <path d=\"M18.56 5.44l.94 2.06.94-2.06 2.06-.94-2.06-.94-.94-2.06-.94 2.06-2.06.94zm-11 1L8.5 8.5l.94-2.06 2.06-.94-2.06-.94L8.5 2.5l-.94 2.06-2.06.94zm10 10l.94 2.06.94-2.06 2.06-.94-2.06-.94-.94-2.06-.94 2.06-2.06.94z\"/><path d=\"M17.41 7.96l-1.37-1.37c-.4-.4-.92-.59-1.43-.59-.52 0-1.04.2-1.43.59L10.3 9.45l-7.72 7.72c-.78.78-.78 2.05 0 2.83L4 21.41c.39.39.9.59 1.41.59.51 0 1.02-.2 1.41-.59l7.78-7.78 2.81-2.81c.8-.78.8-2.07 0-2.86zM5.41 20L4 18.59l7.72-7.72 1.47 1.35L5.41 20z\"/>\n",
              "  </svg>\n",
              "      </button>\n",
              "      \n",
              "  <style>\n",
              "    .colab-df-container {\n",
              "      display:flex;\n",
              "      flex-wrap:wrap;\n",
              "      gap: 12px;\n",
              "    }\n",
              "\n",
              "    .colab-df-convert {\n",
              "      background-color: #E8F0FE;\n",
              "      border: none;\n",
              "      border-radius: 50%;\n",
              "      cursor: pointer;\n",
              "      display: none;\n",
              "      fill: #1967D2;\n",
              "      height: 32px;\n",
              "      padding: 0 0 0 0;\n",
              "      width: 32px;\n",
              "    }\n",
              "\n",
              "    .colab-df-convert:hover {\n",
              "      background-color: #E2EBFA;\n",
              "      box-shadow: 0px 1px 2px rgba(60, 64, 67, 0.3), 0px 1px 3px 1px rgba(60, 64, 67, 0.15);\n",
              "      fill: #174EA6;\n",
              "    }\n",
              "\n",
              "    [theme=dark] .colab-df-convert {\n",
              "      background-color: #3B4455;\n",
              "      fill: #D2E3FC;\n",
              "    }\n",
              "\n",
              "    [theme=dark] .colab-df-convert:hover {\n",
              "      background-color: #434B5C;\n",
              "      box-shadow: 0px 1px 3px 1px rgba(0, 0, 0, 0.15);\n",
              "      filter: drop-shadow(0px 1px 2px rgba(0, 0, 0, 0.3));\n",
              "      fill: #FFFFFF;\n",
              "    }\n",
              "  </style>\n",
              "\n",
              "      <script>\n",
              "        const buttonEl =\n",
              "          document.querySelector('#df-0bae64fc-0731-4fb3-9a74-6c854987186b button.colab-df-convert');\n",
              "        buttonEl.style.display =\n",
              "          google.colab.kernel.accessAllowed ? 'block' : 'none';\n",
              "\n",
              "        async function convertToInteractive(key) {\n",
              "          const element = document.querySelector('#df-0bae64fc-0731-4fb3-9a74-6c854987186b');\n",
              "          const dataTable =\n",
              "            await google.colab.kernel.invokeFunction('convertToInteractive',\n",
              "                                                     [key], {});\n",
              "          if (!dataTable) return;\n",
              "\n",
              "          const docLinkHtml = 'Like what you see? Visit the ' +\n",
              "            '<a target=\"_blank\" href=https://colab.research.google.com/notebooks/data_table.ipynb>data table notebook</a>'\n",
              "            + ' to learn more about interactive tables.';\n",
              "          element.innerHTML = '';\n",
              "          dataTable['output_type'] = 'display_data';\n",
              "          await google.colab.output.renderOutput(dataTable, element);\n",
              "          const docLink = document.createElement('div');\n",
              "          docLink.innerHTML = docLinkHtml;\n",
              "          element.appendChild(docLink);\n",
              "        }\n",
              "      </script>\n",
              "    </div>\n",
              "  </div>\n",
              "  "
            ],
            "text/plain": [
              "        0         1         2         3         4         5         6    \\\n",
              "0  0.977941  0.926471  0.681373  0.245098  0.154412  0.191176  0.151961   \n",
              "1  0.960114  0.863248  0.461538  0.196581  0.094017  0.125356  0.099715   \n",
              "\n",
              "        7         8         9    ...  178  179  180  181  182  183  184  185  \\\n",
              "0  0.085784  0.058824  0.049020  ...  0.0  0.0  0.0  0.0  0.0  0.0  0.0  0.0   \n",
              "1  0.088319  0.074074  0.082621  ...  0.0  0.0  0.0  0.0  0.0  0.0  0.0  0.0   \n",
              "\n",
              "   186  187  \n",
              "0  0.0  0.0  \n",
              "1  0.0  0.0  \n",
              "\n",
              "[2 rows x 188 columns]"
            ]
          },
          "execution_count": 5,
          "metadata": {},
          "output_type": "execute_result"
        }
      ],
      "source": [
        "df.head(2)"
      ],
      "id": "0ff23eec"
    },
    {
      "cell_type": "code",
      "execution_count": null,
      "metadata": {
        "colab": {
          "base_uri": "https://localhost:8080/"
        },
        "id": "75f5f16d",
        "outputId": "3951e403-2ed9-40d7-e23c-0ee8df28b498"
      },
      "outputs": [
        {
          "data": {
            "text/plain": [
              "0.0    90589\n",
              "4.0     8039\n",
              "2.0     7236\n",
              "1.0     2779\n",
              "3.0      803\n",
              "Name: 187, dtype: int64"
            ]
          },
          "execution_count": 6,
          "metadata": {},
          "output_type": "execute_result"
        }
      ],
      "source": [
        "df[187].value_counts()"
      ],
      "id": "75f5f16d"
    },
    {
      "cell_type": "markdown",
      "metadata": {
        "id": "908bdbfb"
      },
      "source": [
        "converting the target values to integers"
      ],
      "id": "908bdbfb"
    },
    {
      "cell_type": "code",
      "execution_count": null,
      "metadata": {
        "id": "4d1389c2"
      },
      "outputs": [],
      "source": [
        "df[187]=df[187].astype(int)"
      ],
      "id": "4d1389c2"
    },
    {
      "cell_type": "code",
      "execution_count": null,
      "metadata": {
        "colab": {
          "base_uri": "https://localhost:8080/"
        },
        "id": "a41b3b36",
        "outputId": "9cb849a1-67bd-461d-b8f6-294c25cc76ac"
      },
      "outputs": [
        {
          "data": {
            "text/plain": [
              "0    90589\n",
              "4     8039\n",
              "2     7236\n",
              "1     2779\n",
              "3      803\n",
              "Name: 187, dtype: int64"
            ]
          },
          "execution_count": 8,
          "metadata": {},
          "output_type": "execute_result"
        }
      ],
      "source": [
        "df[187].value_counts()"
      ],
      "id": "a41b3b36"
    },
    {
      "cell_type": "markdown",
      "metadata": {
        "id": "bcb5cf1d"
      },
      "source": [
        "Checking for Null values"
      ],
      "id": "bcb5cf1d"
    },
    {
      "cell_type": "code",
      "execution_count": null,
      "metadata": {
        "colab": {
          "base_uri": "https://localhost:8080/"
        },
        "id": "5e8b98ad",
        "outputId": "4096b662-80dd-4e74-bc9f-f37809194765"
      },
      "outputs": [
        {
          "data": {
            "text/plain": [
              "0"
            ]
          },
          "execution_count": 9,
          "metadata": {},
          "output_type": "execute_result"
        }
      ],
      "source": [
        "df.isnull().sum().sum()"
      ],
      "id": "5e8b98ad"
    },
    {
      "cell_type": "markdown",
      "metadata": {
        "id": "cd3e41e4"
      },
      "source": [
        "# EDA"
      ],
      "id": "cd3e41e4"
    },
    {
      "cell_type": "code",
      "execution_count": null,
      "metadata": {
        "colab": {
          "base_uri": "https://localhost:8080/",
          "height": 255
        },
        "id": "64558b77",
        "outputId": "1a6d59fe-736c-4d9a-c072-2b22a4c0ab0c"
      },
      "outputs": [
        {
          "data": {
            "text/plain": [
              "<matplotlib.legend.Legend at 0x7f5913feae50>"
            ]
          },
          "execution_count": 10,
          "metadata": {},
          "output_type": "execute_result"
        },
        {
          "data": {
            "image/png": "[encoded data removed]",
            "text/plain": [
              "<Figure size 1224x360 with 2 Axes>"
            ]
          },
          "metadata": {},
          "output_type": "display_data"
        }
      ],
      "source": [
        "plt.figure(figsize=(17,5))\n",
        "plt.subplot(121)\n",
        "test_row_1=np.array(df.iloc[np.random.randint(0,len(df))])\n",
        "plt.plot(test_row_1[:-1],label=test_row_1[-1],color='r')\n",
        "plt.legend()\n",
        "\n",
        "plt.subplot(122)\n",
        "test_row_2=np.array(df.iloc[np.random.randint(0,len(df))])\n",
        "plt.plot(test_row_2[:-1],label=test_row_2[-1])\n",
        "plt.legend()"
      ],
      "id": "64558b77"
    },
    {
      "cell_type": "markdown",
      "metadata": {
        "id": "e0afd255"
      },
      "source": [
        "# Class Descriptions"
      ],
      "id": "e0afd255"
    },
    {
      "cell_type": "markdown",
      "metadata": {
        "id": "b3249473"
      },
      "source": [
        "Normal beat ('N'): 0\n",
        "<br/>\n",
        "Supraventricular ectopic beats ('S'): 1\n",
        "<br/>\n",
        "Ventricular ectopic beats ('V'): 2\n",
        "<br/>\n",
        "Fusion Beats ('F'): 3\n",
        "<br/>\n",
        "Unknown Beats ('Q'): 4"
      ],
      "id": "b3249473"
    },
    {
      "cell_type": "code",
      "execution_count": null,
      "metadata": {
        "colab": {
          "base_uri": "https://localhost:8080/",
          "height": 592
        },
        "id": "8feb1ac3",
        "outputId": "73954a14-1ac0-4d3c-c222-b648d44f977a"
      },
      "outputs": [
        {
          "data": {
            "image/png": "[encoded data removed]",
            "text/plain": [
              "<Figure size 720x720 with 5 Axes>"
            ]
          },
          "metadata": {},
          "output_type": "display_data"
        }
      ],
      "source": [
        "# plot ECG data belonging to each class label\n",
        "label = [\"Normal\",\"Supraventricular\",\"Ventricular\",\n",
        "         \"Fusion\",\"Unknown\"]\n",
        "color = ['blue','red','green','orange','purple']\n",
        "fig, ax = plt.subplots(5, 1, sharex=True, sharey=True,figsize=(10,10))\n",
        "for i, row in enumerate(ax):\n",
        "    row.plot((df[df[187] == i].iloc[0])[:-1], label=label[i], color=color[i])\n",
        "    row.legend()"
      ],
      "id": "8feb1ac3"
    },
    {
      "cell_type": "code",
      "execution_count": null,
      "metadata": {
        "colab": {
          "base_uri": "https://localhost:8080/",
          "height": 745
        },
        "id": "576d8109",
        "outputId": "c4c3eb54-fe1b-4229-ae9f-6adae7e90791"
      },
      "outputs": [
        {
          "data": {
            "text/plain": [
              "([<matplotlib.patches.Wedge at 0x7f591373a410>,\n",
              "  <matplotlib.patches.Wedge at 0x7f591373a810>,\n",
              "  <matplotlib.patches.Wedge at 0x7f591373a8d0>,\n",
              "  <matplotlib.patches.Wedge at 0x7f59137414d0>,\n",
              "  <matplotlib.patches.Wedge at 0x7f5913741e10>],\n",
              " [Text(-0.9427544126347679, 0.5667575473319026, 'Normal'),\n",
              "  Text(0.7244876615439377, -0.8277183266489857, 'Unknown'),\n",
              "  Text(1.0073606227948213, -0.4418422519886819, 'Ventricular'),\n",
              "  Text(1.0912977987617831, -0.13809096428690254, 'Supraventricular'),\n",
              "  Text(1.0997078011098815, -0.02535255762382736, 'Fusion')])"
            ]
          },
          "execution_count": 12,
          "metadata": {},
          "output_type": "execute_result"
        },
        {
          "data": {
            "image/png": "[encoded data removed]",
            "text/plain": [
              "<Figure size 720x720 with 1 Axes>"
            ]
          },
          "metadata": {},
          "output_type": "display_data"
        }
      ],
      "source": [
        "# plot number of records in each category\n",
        "plt.figure(figsize=(10,10))\n",
        "plt.pie(df[187].value_counts(), labels = [\"Normal\",\"Unknown\",\"Ventricular\",\"Supraventricular\",\"Fusion\"])#,colors= ['blue','red','green','orange','purple'],autopct='%2.1f%%')"
      ],
      "id": "576d8109"
    },
    {
      "cell_type": "markdown",
      "metadata": {
        "id": "c3b79cef"
      },
      "source": [
        "# Modeling imbalanced data with logistic Classification"
      ],
      "id": "c3b79cef"
    },
    {
      "cell_type": "code",
      "execution_count": null,
      "metadata": {
        "id": "31afc57e"
      },
      "outputs": [],
      "source": [
        "X=df.iloc[:,:-1]\n",
        "y=df.iloc[:,-1]"
      ],
      "id": "31afc57e"
    },
    {
      "cell_type": "markdown",
      "metadata": {
        "id": "82bd9a2a"
      },
      "source": [
        "Train/Test Split"
      ],
      "id": "82bd9a2a"
    },
    {
      "cell_type": "code",
      "execution_count": null,
      "metadata": {
        "id": "7c1d651d"
      },
      "outputs": [],
      "source": [
        "X_train, X_test, y_train, y_test = train_test_split(X, y, test_size=0.25, random_state=28)"
      ],
      "id": "7c1d651d"
    },
    {
      "cell_type": "code",
      "execution_count": null,
      "metadata": {
        "colab": {
          "base_uri": "https://localhost:8080/"
        },
        "id": "98aaf852",
        "outputId": "8ece1e09-585a-42b4-a1a6-0f16e40f58bd"
      },
      "outputs": [
        {
          "name": "stdout",
          "output_type": "stream",
          "text": [
            "(82084, 187)\n",
            "(82084,)\n",
            "(27362, 187)\n",
            "(27362,)\n"
          ]
        }
      ],
      "source": [
        "print(X_train.shape)\n",
        "print(y_train.shape)\n",
        "print(X_test.shape)\n",
        "print(y_test.shape)"
      ],
      "id": "98aaf852"
    },
    {
      "cell_type": "markdown",
      "metadata": {
        "id": "35f952d3"
      },
      "source": [
        "# Logistic Regression"
      ],
      "id": "35f952d3"
    },
    {
      "cell_type": "code",
      "execution_count": null,
      "metadata": {
        "id": "1fed9128"
      },
      "outputs": [],
      "source": [
        "log_reg=LogisticRegression()"
      ],
      "id": "1fed9128"
    },
    {
      "cell_type": "code",
      "execution_count": null,
      "metadata": {
        "colab": {
          "base_uri": "https://localhost:8080/"
        },
        "id": "e4705797",
        "outputId": "bc396267-6503-4eaf-8ecf-81f43611177b"
      },
      "outputs": [
        {
          "name": "stderr",
          "output_type": "stream",
          "text": [
            "/usr/local/lib/python3.7/dist-packages/sklearn/linear_model/_logistic.py:818: ConvergenceWarning: lbfgs failed to converge (status=1):\n",
            "STOP: TOTAL NO. of ITERATIONS REACHED LIMIT.\n",
            "\n",
            "Increase the number of iterations (max_iter) or scale the data as shown in:\n",
            "    https://scikit-learn.org/stable/modules/preprocessing.html\n",
            "Please also refer to the documentation for alternative solver options:\n",
            "    https://scikit-learn.org/stable/modules/linear_model.html#logistic-regression\n",
            "  extra_warning_msg=_LOGISTIC_SOLVER_CONVERGENCE_MSG,\n"
          ]
        },
        {
          "data": {
            "text/plain": [
              "LogisticRegression()"
            ]
          },
          "execution_count": 17,
          "metadata": {},
          "output_type": "execute_result"
        }
      ],
      "source": [
        "log_reg.fit(X_train,y_train)"
      ],
      "id": "e4705797"
    },
    {
      "cell_type": "code",
      "execution_count": null,
      "metadata": {
        "colab": {
          "base_uri": "https://localhost:8080/"
        },
        "id": "39ba0fb3",
        "outputId": "af04da53-0c53-4e2f-cc20-0763bea7e6c1"
      },
      "outputs": [
        {
          "name": "stdout",
          "output_type": "stream",
          "text": [
            "0.9129449601637307\n",
            "\n",
            "              precision    recall  f1-score   support\n",
            "\n",
            "           0       0.92      0.99      0.95     22592\n",
            "           1       0.84      0.39      0.54       701\n",
            "           2       0.66      0.33      0.44      1789\n",
            "           3       0.60      0.20      0.30       194\n",
            "           4       0.96      0.87      0.91      2086\n",
            "\n",
            "    accuracy                           0.91     27362\n",
            "   macro avg       0.80      0.55      0.63     27362\n",
            "weighted avg       0.90      0.91      0.90     27362\n",
            "\n"
          ]
        }
      ],
      "source": [
        "y_pred=log_reg.predict(X_test)\n",
        "print(accuracy_score(y_test,y_pred))\n",
        "print()\n",
        "print(classification_report(y_test,y_pred))"
      ],
      "id": "39ba0fb3"
    },
    {
      "cell_type": "markdown",
      "metadata": {
        "id": "e3688ace"
      },
      "source": [
        "# Random Forest Classification"
      ],
      "id": "e3688ace"
    },
    {
      "cell_type": "code",
      "execution_count": null,
      "metadata": {
        "id": "05cd3918"
      },
      "outputs": [],
      "source": [
        "rf=RandomForestClassifier()"
      ],
      "id": "05cd3918"
    },
    {
      "cell_type": "code",
      "execution_count": null,
      "metadata": {
        "colab": {
          "base_uri": "https://localhost:8080/"
        },
        "id": "5892832c",
        "outputId": "e1b3516f-5713-4310-b3b6-51b8e55f9c6f"
      },
      "outputs": [
        {
          "data": {
            "text/plain": [
              "RandomForestClassifier()"
            ]
          },
          "execution_count": 20,
          "metadata": {},
          "output_type": "execute_result"
        }
      ],
      "source": [
        "rf.fit(X_train,y_train)"
      ],
      "id": "5892832c"
    },
    {
      "cell_type": "code",
      "execution_count": null,
      "metadata": {
        "colab": {
          "base_uri": "https://localhost:8080/"
        },
        "id": "e5448b8f",
        "outputId": "30ce2648-4bdd-4455-8a2d-10905a1fd360"
      },
      "outputs": [
        {
          "name": "stdout",
          "output_type": "stream",
          "text": [
            "0.9761347854688984\n",
            "\n",
            "              precision    recall  f1-score   support\n",
            "\n",
            "           0       0.98      1.00      0.99     22592\n",
            "           1       0.98      0.63      0.77       701\n",
            "           2       0.98      0.89      0.93      1789\n",
            "           3       0.92      0.58      0.71       194\n",
            "           4       0.99      0.95      0.97      2086\n",
            "\n",
            "    accuracy                           0.98     27362\n",
            "   macro avg       0.97      0.81      0.87     27362\n",
            "weighted avg       0.98      0.98      0.97     27362\n",
            "\n"
          ]
        }
      ],
      "source": [
        "y_pred=rf.predict(X_test)\n",
        "print(accuracy_score(y_test,y_pred))\n",
        "print()\n",
        "print(classification_report(y_test,y_pred))"
      ],
      "id": "e5448b8f"
    },
    {
      "cell_type": "code",
      "execution_count": null,
      "metadata": {
        "id": "e6849724"
      },
      "outputs": [],
      "source": [
        "cm_matrix_rf = confusion_matrix(y_test, y_pred)"
      ],
      "id": "e6849724"
    },
    {
      "cell_type": "code",
      "execution_count": null,
      "metadata": {
        "colab": {
          "base_uri": "https://localhost:8080/",
          "height": 282
        },
        "id": "1faac14e",
        "outputId": "1acab39f-01f8-4e0c-86ba-421873f67c43"
      },
      "outputs": [
        {
          "data": {
            "text/plain": [
              "<matplotlib.axes._subplots.AxesSubplot at 0x7f591375b0d0>"
            ]
          },
          "execution_count": 23,
          "metadata": {},
          "output_type": "execute_result"
        },
        {
          "data": {
            "image/png": "[encoded data removed]",
            "text/plain": [
              "<Figure size 432x288 with 2 Axes>"
            ]
          },
          "metadata": {},
          "output_type": "display_data"
        }
      ],
      "source": [
        "sns.heatmap(cm_matrix_rf, annot=True)"
      ],
      "id": "1faac14e"
    },
    {
      "cell_type": "markdown",
      "metadata": {
        "id": "3fdf4e6d"
      },
      "source": [
        "# XgBoost Classification"
      ],
      "id": "3fdf4e6d"
    },
    {
      "cell_type": "code",
      "execution_count": null,
      "metadata": {
        "id": "e3fff96c"
      },
      "outputs": [],
      "source": [
        "xg_clf = GradientBoostingClassifier(n_estimators=100, learning_rate=1.0,max_depth=1, random_state=0)"
      ],
      "id": "e3fff96c"
    },
    {
      "cell_type": "code",
      "execution_count": null,
      "metadata": {
        "colab": {
          "base_uri": "https://localhost:8080/"
        },
        "id": "58b416dd",
        "outputId": "9fd86e44-2394-4a57-c143-8b5b3cebd45f"
      },
      "outputs": [
        {
          "data": {
            "text/plain": [
              "GradientBoostingClassifier(learning_rate=1.0, max_depth=1, random_state=0)"
            ]
          },
          "execution_count": 25,
          "metadata": {},
          "output_type": "execute_result"
        }
      ],
      "source": [
        "xg_clf.fit(X_train, y_train)"
      ],
      "id": "58b416dd"
    },
    {
      "cell_type": "code",
      "execution_count": null,
      "metadata": {
        "colab": {
          "base_uri": "https://localhost:8080/"
        },
        "id": "dbb8da76",
        "outputId": "00acd276-582f-44f9-b995-9de1c57999b3"
      },
      "outputs": [
        {
          "name": "stdout",
          "output_type": "stream",
          "text": [
            "0.8444192675973978\n",
            "\n",
            "              precision    recall  f1-score   support\n",
            "\n",
            "           0       0.89      0.95      0.92     22592\n",
            "           1       0.35      0.14      0.20       701\n",
            "           2       0.69      0.25      0.36      1789\n",
            "           3       0.00      0.00      0.00       194\n",
            "           4       0.45      0.52      0.48      2086\n",
            "\n",
            "    accuracy                           0.84     27362\n",
            "   macro avg       0.48      0.37      0.39     27362\n",
            "weighted avg       0.83      0.84      0.83     27362\n",
            "\n"
          ]
        }
      ],
      "source": [
        "y_pred=xg_clf.predict(X_test)\n",
        "print(accuracy_score(y_test,y_pred))\n",
        "print()\n",
        "print(classification_report(y_test,y_pred))"
      ],
      "id": "dbb8da76"
    },
    {
      "cell_type": "markdown",
      "metadata": {
        "id": "efabe95f"
      },
      "source": [
        "# Handling Imbalanced Dataset"
      ],
      "id": "efabe95f"
    },
    {
      "cell_type": "code",
      "execution_count": null,
      "metadata": {
        "id": "1cbb3f6f"
      },
      "outputs": [],
      "source": [
        "import imblearn\n",
        "from imblearn.over_sampling import SMOTE"
      ],
      "id": "1cbb3f6f"
    },
    {
      "cell_type": "code",
      "execution_count": null,
      "metadata": {
        "colab": {
          "base_uri": "https://localhost:8080/"
        },
        "id": "78cf5432",
        "outputId": "74abaee8-fe84-484c-de77-6c1874ec9866"
      },
      "outputs": [
        {
          "data": {
            "text/plain": [
              "0    67997\n",
              "4     5953\n",
              "2     5447\n",
              "1     2078\n",
              "3      609\n",
              "Name: 187, dtype: int64"
            ]
          },
          "execution_count": 28,
          "metadata": {},
          "output_type": "execute_result"
        }
      ],
      "source": [
        "y_train.value_counts()"
      ],
      "id": "78cf5432"
    },
    {
      "cell_type": "code",
      "execution_count": null,
      "metadata": {
        "id": "66ed602b"
      },
      "outputs": [],
      "source": [
        "smote=SMOTE()\n",
        "X_oversampled,y_oversampled=smote.fit_resample(X_train,y_train)"
      ],
      "id": "66ed602b"
    },
    {
      "cell_type": "code",
      "execution_count": null,
      "metadata": {
        "colab": {
          "base_uri": "https://localhost:8080/"
        },
        "id": "72cb2a70",
        "outputId": "7e1c1f30-63f1-4f0e-ca80-70b4464cce44"
      },
      "outputs": [
        {
          "data": {
            "text/plain": [
              "0    67997\n",
              "4    67997\n",
              "2    67997\n",
              "1    67997\n",
              "3    67997\n",
              "Name: 187, dtype: int64"
            ]
          },
          "execution_count": 30,
          "metadata": {},
          "output_type": "execute_result"
        }
      ],
      "source": [
        "y_oversampled.value_counts()"
      ],
      "id": "72cb2a70"
    },
    {
      "cell_type": "markdown",
      "metadata": {
        "id": "30cdc906"
      },
      "source": [
        "# Model training after SMOTE"
      ],
      "id": "30cdc906"
    },
    {
      "cell_type": "markdown",
      "metadata": {
        "id": "5aspil_UXMcP"
      },
      "source": [
        "### Logistic Regression"
      ],
      "id": "5aspil_UXMcP"
    },
    {
      "cell_type": "code",
      "execution_count": null,
      "metadata": {
        "id": "9a9e4a6e"
      },
      "outputs": [],
      "source": [
        "log_reg_resampled=LogisticRegression()"
      ],
      "id": "9a9e4a6e"
    },
    {
      "cell_type": "code",
      "execution_count": null,
      "metadata": {
        "colab": {
          "base_uri": "https://localhost:8080/"
        },
        "id": "636c03dc",
        "outputId": "89b4bd62-4aca-4454-a96e-d7664d1d9748"
      },
      "outputs": [
        {
          "name": "stdout",
          "output_type": "stream",
          "text": [
            "0.6684818361230904\n",
            "\n",
            "              precision    recall  f1-score   support\n",
            "\n",
            "           0       0.97      0.64      0.77     22592\n",
            "           1       0.15      0.72      0.24       701\n",
            "           2       0.28      0.74      0.41      1789\n",
            "           3       0.09      0.86      0.16       194\n",
            "           4       0.73      0.92      0.81      2086\n",
            "\n",
            "    accuracy                           0.67     27362\n",
            "   macro avg       0.44      0.77      0.48     27362\n",
            "weighted avg       0.88      0.67      0.73     27362\n",
            "\n"
          ]
        },
        {
          "name": "stderr",
          "output_type": "stream",
          "text": [
            "/usr/local/lib/python3.7/dist-packages/sklearn/linear_model/_logistic.py:818: ConvergenceWarning: lbfgs failed to converge (status=1):\n",
            "STOP: TOTAL NO. of ITERATIONS REACHED LIMIT.\n",
            "\n",
            "Increase the number of iterations (max_iter) or scale the data as shown in:\n",
            "    https://scikit-learn.org/stable/modules/preprocessing.html\n",
            "Please also refer to the documentation for alternative solver options:\n",
            "    https://scikit-learn.org/stable/modules/linear_model.html#logistic-regression\n",
            "  extra_warning_msg=_LOGISTIC_SOLVER_CONVERGENCE_MSG,\n"
          ]
        }
      ],
      "source": [
        "log_reg_resampled.fit(X_oversampled,y_oversampled)\n",
        "y_pred=log_reg_resampled.predict(X_test)\n",
        "print(accuracy_score(y_test,y_pred))\n",
        "print()\n",
        "print(classification_report(y_test,y_pred))"
      ],
      "id": "636c03dc"
    },
    {
      "cell_type": "markdown",
      "metadata": {
        "id": "QG8SzhcwXQo_"
      },
      "source": [
        "### Random Forest"
      ],
      "id": "QG8SzhcwXQo_"
    },
    {
      "cell_type": "code",
      "execution_count": null,
      "metadata": {
        "id": "cd4867c9"
      },
      "outputs": [],
      "source": [
        "rf_resampled=RandomForestClassifier()"
      ],
      "id": "cd4867c9"
    },
    {
      "cell_type": "code",
      "execution_count": null,
      "metadata": {
        "colab": {
          "base_uri": "https://localhost:8080/"
        },
        "id": "5588dff8",
        "outputId": "baefe29f-4abe-43bd-86d2-6fa3bd076b40"
      },
      "outputs": [
        {
          "name": "stdout",
          "output_type": "stream",
          "text": [
            "0.9819457641985235\n",
            "\n",
            "              precision    recall  f1-score   support\n",
            "\n",
            "           0       0.99      0.99      0.99     22592\n",
            "           1       0.86      0.80      0.83       701\n",
            "           2       0.96      0.94      0.95      1789\n",
            "           3       0.83      0.78      0.80       194\n",
            "           4       0.99      0.97      0.98      2086\n",
            "\n",
            "    accuracy                           0.98     27362\n",
            "   macro avg       0.93      0.90      0.91     27362\n",
            "weighted avg       0.98      0.98      0.98     27362\n",
            "\n"
          ]
        }
      ],
      "source": [
        "rf_resampled.fit(X_oversampled,y_oversampled)\n",
        "y_pred=rf_resampled.predict(X_test)\n",
        "print(accuracy_score(y_test,y_pred))\n",
        "print()\n",
        "print(classification_report(y_test,y_pred))"
      ],
      "id": "5588dff8"
    },
    {
      "cell_type": "markdown",
      "metadata": {
        "id": "ReGaSGzwXVeI"
      },
      "source": [
        "### XGBoost"
      ],
      "id": "ReGaSGzwXVeI"
    },
    {
      "cell_type": "code",
      "execution_count": null,
      "metadata": {
        "id": "4595b80b"
      },
      "outputs": [],
      "source": [
        "xg_clf_resampled = GradientBoostingClassifier(n_estimators=100, learning_rate=1.0,max_depth=1, random_state=0)"
      ],
      "id": "4595b80b"
    },
    {
      "cell_type": "code",
      "execution_count": null,
      "metadata": {
        "colab": {
          "background_save": true
        },
        "id": "5c938fc5",
        "outputId": "656531d9-cbd3-41f5-c341-721722f0cd75"
      },
      "outputs": [
        {
          "data": {
            "text/plain": [
              "GradientBoostingClassifier(learning_rate=1.0, max_depth=1, random_state=0)"
            ]
          },
          "execution_count": 36,
          "metadata": {},
          "output_type": "execute_result"
        }
      ],
      "source": [
        "xg_clf_resampled.fit(X_oversampled,y_oversampled)"
      ],
      "id": "5c938fc5"
    },
    {
      "cell_type": "code",
      "execution_count": null,
      "metadata": {
        "colab": {
          "background_save": true
        },
        "id": "f4ab6364",
        "outputId": "fd35a088-d42b-46ed-b8d4-00a3eef9e030"
      },
      "outputs": [
        {
          "name": "stdout",
          "output_type": "stream",
          "text": [
            "0.7552444996710767\n",
            "\n",
            "              precision    recall  f1-score   support\n",
            "\n",
            "           0       0.98      0.73      0.84     22592\n",
            "           1       0.19      0.74      0.30       701\n",
            "           2       0.43      0.80      0.56      1789\n",
            "           3       0.09      0.88      0.16       194\n",
            "           4       0.82      0.96      0.89      2086\n",
            "\n",
            "    accuracy                           0.76     27362\n",
            "   macro avg       0.50      0.82      0.55     27362\n",
            "weighted avg       0.90      0.76      0.80     27362\n",
            "\n"
          ]
        }
      ],
      "source": [
        "y_pred = xg_clf_resampled.predict(X_test)\n",
        "print(accuracy_score(y_test,y_pred))\n",
        "print()\n",
        "print(classification_report(y_test,y_pred))"
      ],
      "id": "f4ab6364"
    },
    {
      "cell_type": "code",
      "execution_count": null,
      "metadata": {
        "colab": {
          "background_save": true
        },
        "id": "bbf8f04c"
      },
      "outputs": [],
      "source": [
        ""
      ],
      "id": "bbf8f04c"
    },
    {
      "cell_type": "markdown",
      "metadata": {
        "id": "bcd62bd5"
      },
      "source": [
        "# Conclusions"
      ],
      "id": "bcd62bd5"
    },
    {
      "cell_type": "markdown",
      "metadata": {
        "id": "8ffc00a0"
      },
      "source": [
        "1. Using SMOTE oversampling, the performance of Logistic Regression declined, but that of Random Forest classifier improved, specially for the minority classes."
      ],
      "id": "8ffc00a0"
    },
    {
      "cell_type": "markdown",
      "metadata": {
        "id": "c3aeaa34"
      },
      "source": [
        "2. Without any oversampling also Random Forest classifier worked better"
      ],
      "id": "c3aeaa34"
    },
    {
      "cell_type": "markdown",
      "metadata": {
        "id": "c83ad1e4"
      },
      "source": [
        "3. Xgboost comparitively didn't perform in both the cases"
      ],
      "id": "c83ad1e4"
    },
    {
      "cell_type": "code",
      "execution_count": null,
      "metadata": {
        "colab": {
          "background_save": true
        },
        "id": "2d7d72ef",
        "outputId": "8a3e3baa-6616-4ab4-ef3f-9373d9d5c920"
      },
      "outputs": [
        {
          "data": {
            "image/png": "[encoded data removed]",
            "text/plain": [
              "<Figure size 1080x576 with 1 Axes>"
            ]
          },
          "metadata": {},
          "output_type": "display_data"
        }
      ],
      "source": [
        "plt.figure(figsize = (15,8))\n",
        "ax = sns.barplot(x = 'Algorithm',\n",
        "            y = 'Accuracy',\n",
        "            hue = 'Type',\n",
        "            data = df)\n",
        "ax.set_xticklabels(ax.get_xticklabels(),rotation = 45)\n",
        "# Show the plot\n",
        "plt.show()"
      ],
      "id": "2d7d72ef"
    },
    {
      "cell_type": "code",
      "execution_count": null,
      "metadata": {
        "colab": {
          "background_save": true
        },
        "id": "kDmGrA3VUy90"
      },
      "outputs": [],
      "source": [
        ""
      ],
      "id": "kDmGrA3VUy90"
    }
  ],
  "metadata": {
    "colab": {
      "name": "HeartBeatClassification_Using_ECG_Data_Team23_ADS_Final_Project.ipynb",
      "provenance": []
    },
    "kernelspec": {
      "display_name": "Python 3 (ipykernel)",
      "language": "python",
      "name": "python3"
    },
    "language_info": {
      "codemirror_mode": {
        "name": "ipython",
        "version": 3
      },
      "file_extension": ".py",
      "mimetype": "text/x-python",
      "name": "python",
      "nbconvert_exporter": "python",
      "pygments_lexer": "ipython3",
      "version": "3.9.7"
    }
  },
  "nbformat": 4,
  "nbformat_minor": 5
}